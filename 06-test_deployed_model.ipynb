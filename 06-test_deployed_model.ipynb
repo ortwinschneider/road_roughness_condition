{
 "cells": [
  {
   "cell_type": "code",
   "execution_count": 2,
   "id": "5ed51fec-1d37-4a87-88f4-266c485c57d6",
   "metadata": {},
   "outputs": [
    {
     "name": "stdout",
     "output_type": "stream",
     "text": [
      "{\n",
      "  \"prediction\": {\n",
      "    \"Road Condition\": \"Great\",\n",
      "    \"Vehicle Config\": \"166Y.2\"\n",
      "  }\n",
      "}\n"
     ]
    }
   ],
   "source": [
    "!curl -X POST -H \"Content-Type: application/json\" --data '[0.36, 0.20, 9.79, 0.009, -0.13, -0.02, 0.14]' https://road-roughness-condition-git-roadconditions.apps.cluster-c4lhj.c4lhj.sandbox1290.opentlc.com/predictions"
   ]
  },
  {
   "cell_type": "code",
   "execution_count": null,
   "id": "82f17fd6-c630-41e2-b206-53809c8e6539",
   "metadata": {},
   "outputs": [],
   "source": []
  }
 ],
 "metadata": {
  "kernelspec": {
   "display_name": "Python 3 (ipykernel)",
   "language": "python",
   "name": "python3"
  },
  "language_info": {
   "codemirror_mode": {
    "name": "ipython",
    "version": 3
   },
   "file_extension": ".py",
   "mimetype": "text/x-python",
   "name": "python",
   "nbconvert_exporter": "python",
   "pygments_lexer": "ipython3",
   "version": "3.8.12"
  }
 },
 "nbformat": 4,
 "nbformat_minor": 5
}

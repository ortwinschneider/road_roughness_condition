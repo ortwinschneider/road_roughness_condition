{
 "cells": [
  {
   "cell_type": "markdown",
   "id": "48c47749-9a9a-4ea6-b14a-3ac383977680",
   "metadata": {},
   "source": [
    "## **Setting up the Ray cluster**"
   ]
  },
  {
   "cell_type": "markdown",
   "id": "46d1adbb-02bf-476f-87aa-b31fc74feb0f",
   "metadata": {},
   "source": [
    "**Let's first login to the OpenShift cluster and navigate to the project**"
   ]
  },
  {
   "cell_type": "code",
   "execution_count": null,
   "id": "0d093167-def7-4f12-8d94-da5013f9c06d",
   "metadata": {},
   "outputs": [],
   "source": [
    "! oc login --token=your-token --server=your-cluster"
   ]
  },
  {
   "cell_type": "code",
   "execution_count": null,
   "id": "99669376-7b9d-4f2f-b868-08ebe99d8c86",
   "metadata": {},
   "outputs": [],
   "source": [
    "! oc project default"
   ]
  },
  {
   "cell_type": "markdown",
   "id": "82d004b1-1857-4dbd-a056-e04bd0b7351a",
   "metadata": {},
   "source": [
    "**We will import the CodeFlare pieces from codflare-sdk**"
   ]
  },
  {
   "cell_type": "code",
   "execution_count": null,
   "id": "6d641c46-9d3b-4ccd-aca2-2efbc82e9781",
   "metadata": {},
   "outputs": [],
   "source": [
    "from codeflare_sdk.cluster.cluster import Cluster, ClusterConfiguration"
   ]
  },
  {
   "cell_type": "markdown",
   "id": "a7ae5491-d6ef-4bcd-915c-0f9964f0015f",
   "metadata": {},
   "source": [
    "### **Request aggregated resources using CodeFlare**"
   ]
  },
  {
   "cell_type": "markdown",
   "id": "cd98845d-f178-4aad-aa05-7575c1293980",
   "metadata": {
    "tags": []
   },
   "source": [
    "**cluster-up() will create an AppWrapper CRD that will request aggregated resources and create\n",
    "a Ray cluster with Ray head and two Ray worker nodes (each represented by a pod) when resources are available. If resources are not available,\n",
    "it will wait in a queue and instantly deploy the Ray cluster when resources free up.**"
   ]
  },
  {
   "cell_type": "code",
   "execution_count": null,
   "id": "8a1754db-2427-4041-9499-41f8d78c6066",
   "metadata": {},
   "outputs": [],
   "source": [
    "# Create our cluster and submit appwrapper\n",
    "cluster = Cluster(ClusterConfiguration(name='road-ray', min_worker=1, max_worker=1, min_cpus=2, max_cpus=2, min_memory=8, max_memory=8, gpu=0))"
   ]
  },
  {
   "cell_type": "code",
   "execution_count": null,
   "id": "1dee1764-8d0d-4bfb-ad06-61d8f03ec7fe",
   "metadata": {},
   "outputs": [],
   "source": [
    "cluster.up()"
   ]
  },
  {
   "cell_type": "code",
   "execution_count": null,
   "id": "376b6b42-911f-45de-bf66-424544fde309",
   "metadata": {},
   "outputs": [],
   "source": [
    "cluster.is_ready()"
   ]
  },
  {
   "cell_type": "code",
   "execution_count": null,
   "id": "05c81337-01fc-4b39-848d-908e9ca53ad9",
   "metadata": {},
   "outputs": [],
   "source": [
    "cluster.status()"
   ]
  },
  {
   "cell_type": "code",
   "execution_count": null,
   "id": "cbc258c9-cff1-4e12-875a-9e64821a58e4",
   "metadata": {},
   "outputs": [],
   "source": [
    "ray_cluster_uri = cluster.cluster_uri()"
   ]
  },
  {
   "cell_type": "markdown",
   "id": "686ce54d-2e6b-4f10-8a74-92ab2fc9254e",
   "metadata": {},
   "source": [
    "**Below we will go ahead and connect to this cluster so that we can run our code on it.**"
   ]
  },
  {
   "cell_type": "code",
   "execution_count": null,
   "id": "164bdbfa-928b-4439-b023-aee648848bf5",
   "metadata": {},
   "outputs": [],
   "source": [
    "#before proceeding make sure the cluster exists and the uri is not empty\n",
    "assert ray_cluster_uri, \"Ray cluster needs to be started and set before proceeding\"\n",
    "\n",
    "import ray\n",
    "\n",
    "# reset the ray context in case there's already one. \n",
    "ray.shutdown()\n",
    "# establish connection to ray cluster\n",
    "\n",
    "#install additionall libraries that will be required for this training\n",
    "runtime_env = {\"pip\": [\"scikit-learn\"]}\n",
    "\n",
    "ray.init(address=f'{ray_cluster_uri}', runtime_env=runtime_env)\n",
    "\n",
    "print(\"Ray cluster is up and running: \", ray.is_initialized())"
   ]
  },
  {
   "cell_type": "markdown",
   "id": "9b0b4718-8add-4aa5-9867-9c03ae77da13",
   "metadata": {},
   "source": [
    "## Load Data"
   ]
  },
  {
   "cell_type": "code",
   "execution_count": null,
   "id": "a97a8ea5-840f-4cbb-b04a-5c5e552a65dc",
   "metadata": {},
   "outputs": [],
   "source": [
    "!pip install -r requirements.txt\n",
    "import joblib\n",
    "import pandas as pd\n",
    "\n",
    "df = pd.read_csv('road_roughness_data.csv')\n",
    "print(df)"
   ]
  },
  {
   "cell_type": "markdown",
   "id": "9ecae26a-0048-46ed-8cb6-e67940376209",
   "metadata": {},
   "source": [
    "## Features"
   ]
  },
  {
   "cell_type": "code",
   "execution_count": null,
   "id": "1690576d-ffe0-455d-9091-199ad3212b42",
   "metadata": {},
   "outputs": [],
   "source": [
    "df.iloc[:,:-1]"
   ]
  },
  {
   "cell_type": "markdown",
   "id": "35e626b6-da7f-4126-bce0-183a2c367f22",
   "metadata": {},
   "source": [
    "## Target variable"
   ]
  },
  {
   "cell_type": "code",
   "execution_count": null,
   "id": "286189ec-13d5-4664-a471-4d1acd81cb32",
   "metadata": {},
   "outputs": [],
   "source": [
    "df.iloc[:,-1:]"
   ]
  },
  {
   "cell_type": "markdown",
   "id": "cc331bf6-5633-4abd-94bb-b297007798a4",
   "metadata": {},
   "source": [
    "## Split data into Train and Test sets"
   ]
  },
  {
   "cell_type": "code",
   "execution_count": null,
   "id": "04492de3-d8ea-47d8-9a27-d4bc186e6c1d",
   "metadata": {},
   "outputs": [],
   "source": [
    "# Import train_test_split function\n",
    "from sklearn.model_selection import train_test_split\n",
    "\n",
    "X = df.iloc[:,:-1]\n",
    "#y = df.iloc[:,-1:]\n",
    "y = df['road_condition']\n",
    "\n",
    "# Split dataset into training set and test set\n",
    "X_train, X_test, y_train, y_test = train_test_split(X, y, test_size=0.80) # 70% training and 30% test"
   ]
  },
  {
   "cell_type": "code",
   "execution_count": null,
   "id": "5feb1664-e888-4a46-b4e2-cdb8a4c07a19",
   "metadata": {},
   "outputs": [],
   "source": [
    "# Create Ray object references\n",
    "X_train_remote, X_test_remote, y_train_remote, y_test_remote = ray.put(X_train), ray.put(X_test), ray.put(y_train), ray.put(y_test)"
   ]
  },
  {
   "cell_type": "markdown",
   "id": "cab413eb-f6c3-4441-921a-ba2ab130c2bb",
   "metadata": {},
   "source": [
    "## Fit Random Forest Classifier to Train set and Run prediction on test data"
   ]
  },
  {
   "cell_type": "code",
   "execution_count": null,
   "id": "449dc16b-a5f7-454a-a2eb-8470eb79cb59",
   "metadata": {},
   "outputs": [],
   "source": [
    "@ray.remote\n",
    "def train_fn(X_train, y_train, X_test):\n",
    "    #Import Random Forest Model\n",
    "    from sklearn.ensemble import RandomForestClassifier\n",
    "\n",
    "    #Create a Gaussian Classifier\n",
    "    clf = RandomForestClassifier(n_estimators=100,verbose=1)\n",
    "\n",
    "    #Train the model using the training sets y_pred=clf.predict(X_test)\n",
    "    clf.fit(X_train,y_train)\n",
    "    \n",
    "    #Run prediction on test data and return the results\n",
    "    y_pred = clf.predict(X_test)\n",
    "    return y_pred, clf"
   ]
  },
  {
   "cell_type": "code",
   "execution_count": null,
   "id": "e1129c2d-370f-47b5-b72b-00c0f5378a7c",
   "metadata": {},
   "outputs": [],
   "source": [
    "y_pred, clf = ray.get(train_fn.remote(X_train_remote, y_train_remote, X_test_remote))"
   ]
  },
  {
   "cell_type": "markdown",
   "id": "0296081c-a378-462b-80c5-ee43aa3cce66",
   "metadata": {},
   "source": [
    "**Let's clean up. cluster.down() will delete the Ray cluster, free up resources and delete the AppWrapper CRD.**"
   ]
  },
  {
   "cell_type": "markdown",
   "id": "8560f83c-6714-436e-bab4-a4c7a9eab491",
   "metadata": {},
   "source": [
    "## Test model accuracy"
   ]
  },
  {
   "cell_type": "code",
   "execution_count": null,
   "id": "f6ed0a75-b551-490a-998b-b809b93cb7c0",
   "metadata": {},
   "outputs": [],
   "source": [
    "#Import scikit-learn metrics module for accuracy calculation\n",
    "from sklearn import metrics\n",
    "# Model Accuracy, how often is the classifier correct?\n",
    "print(\"Accuracy:\",metrics.accuracy_score(y_test, y_pred))"
   ]
  },
  {
   "cell_type": "markdown",
   "id": "4b573fff-30b0-45cf-998d-6dbd4a2bd1aa",
   "metadata": {},
   "source": [
    "## Save model"
   ]
  },
  {
   "cell_type": "code",
   "execution_count": null,
   "id": "eda374bc-600c-40ae-b616-ccff432da654",
   "metadata": {},
   "outputs": [],
   "source": [
    "# save the model to disk\n",
    "filename = 'road-model.joblib'\n",
    "joblib.dump(clf, filename)"
   ]
  },
  {
   "cell_type": "markdown",
   "id": "8b5e54c4-eede-451b-90df-246a8e8a758d",
   "metadata": {},
   "source": [
    "## Load and Test prediction from saved model"
   ]
  },
  {
   "cell_type": "code",
   "execution_count": null,
   "id": "0e233a03-0fec-4803-9746-866113bd0f18",
   "metadata": {},
   "outputs": [],
   "source": [
    "# load the model from disk\n",
    "loaded_model = joblib.load(filename)\n",
    "result = loaded_model.score(X_test, y_test)\n",
    "print(result)"
   ]
  },
  {
   "cell_type": "code",
   "execution_count": null,
   "id": "ca34d954-67e6-4da6-92e9-04c0f82ae9a1",
   "metadata": {},
   "outputs": [],
   "source": [
    "cluster.down()"
   ]
  },
  {
   "cell_type": "code",
   "execution_count": null,
   "id": "8771a206-46a9-4e48-85d0-7304ea6e2058",
   "metadata": {},
   "outputs": [],
   "source": [
    "!nvidia-smi"
   ]
  },
  {
   "cell_type": "code",
   "execution_count": null,
   "id": "4f802aa7-f25c-463b-8466-52541767ad10",
   "metadata": {},
   "outputs": [],
   "source": []
  }
 ],
 "metadata": {
  "kernelspec": {
   "display_name": "Python 3 (ipykernel)",
   "language": "python",
   "name": "python3"
  },
  "language_info": {
   "codemirror_mode": {
    "name": "ipython",
    "version": 3
   },
   "file_extension": ".py",
   "mimetype": "text/x-python",
   "name": "python",
   "nbconvert_exporter": "python",
   "pygments_lexer": "ipython3",
   "version": "3.8.12"
  }
 },
 "nbformat": 4,
 "nbformat_minor": 5
}

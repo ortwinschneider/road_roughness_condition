{
 "cells": [
  {
   "cell_type": "markdown",
   "id": "48c47749-9a9a-4ea6-b14a-3ac383977680",
   "metadata": {},
   "source": [
    "## **Setting up the Ray cluster**"
   ]
  },
  {
   "cell_type": "markdown",
   "id": "46d1adbb-02bf-476f-87aa-b31fc74feb0f",
   "metadata": {},
   "source": [
    "**Let's first login to the OpenShift cluster and navigate to the project**"
   ]
  },
  {
   "cell_type": "code",
   "execution_count": 2,
   "id": "0d093167-def7-4f12-8d94-da5013f9c06d",
   "metadata": {},
   "outputs": [
    {
     "name": "stdout",
     "output_type": "stream",
     "text": [
      "Logged into \"https://your-cluster\" as \"opentlc-mgr\" using the token provided.\n",
      "\n",
      "You have access to 91 projects, the list has been suppressed. You can list all projects with 'oc projects'\n",
      "\n",
      "Using project \"default\".\n"
     ]
    }
   ],
   "source": [
    "! oc login --token=your-token --server=https://your-cluster"
   ]
  },
  {
   "cell_type": "code",
   "execution_count": null,
   "id": "99669376-7b9d-4f2f-b868-08ebe99d8c86",
   "metadata": {},
   "outputs": [],
   "source": [
    "! oc project default"
   ]
  },
  {
   "cell_type": "markdown",
   "id": "82d004b1-1857-4dbd-a056-e04bd0b7351a",
   "metadata": {},
   "source": [
    "**We will import the CodeFlare pieces from codflare-sdk**"
   ]
  },
  {
   "cell_type": "code",
   "execution_count": 3,
   "id": "6d641c46-9d3b-4ccd-aca2-2efbc82e9781",
   "metadata": {},
   "outputs": [],
   "source": [
    "from codeflare_sdk.cluster.cluster import Cluster, ClusterConfiguration"
   ]
  },
  {
   "cell_type": "markdown",
   "id": "a7ae5491-d6ef-4bcd-915c-0f9964f0015f",
   "metadata": {},
   "source": [
    "### **Request aggregated resources using CodeFlare**"
   ]
  },
  {
   "cell_type": "markdown",
   "id": "cd98845d-f178-4aad-aa05-7575c1293980",
   "metadata": {
    "tags": []
   },
   "source": [
    "**cluster-up() will create an AppWrapper CRD that will request aggregated resources and create\n",
    "a Ray cluster with Ray head and two Ray worker nodes (each represented by a pod) when resources are available. If resources are not available,\n",
    "it will wait in a queue and instantly deploy the Ray cluster when resources free up.**"
   ]
  },
  {
   "cell_type": "code",
   "execution_count": 4,
   "id": "8a1754db-2427-4041-9499-41f8d78c6066",
   "metadata": {},
   "outputs": [
    {
     "name": "stdout",
     "output_type": "stream",
     "text": [
      "Written to: road-ray.yaml\n"
     ]
    }
   ],
   "source": [
    "# Create our cluster and submit appwrapper\n",
    "cluster = Cluster(ClusterConfiguration(name='road-ray', min_worker=1, max_worker=1, min_cpus=2, max_cpus=2, min_memory=8, max_memory=8, gpu=0))"
   ]
  },
  {
   "cell_type": "code",
   "execution_count": 25,
   "id": "1dee1764-8d0d-4bfb-ad06-61d8f03ec7fe",
   "metadata": {},
   "outputs": [],
   "source": [
    "cluster.up()"
   ]
  },
  {
   "cell_type": "code",
   "execution_count": 6,
   "id": "376b6b42-911f-45de-bf66-424544fde309",
   "metadata": {},
   "outputs": [
    {
     "data": {
      "text/html": [
       "<pre style=\"white-space:pre;overflow-x:auto;line-height:normal;font-family:Menlo,'DejaVu Sans Mono',consolas,'Courier New',monospace\"><span style=\"font-style: italic\">                 </span><span style=\"font-weight: bold; font-style: italic\"> 🚀 List of CodeFlare clusters 🚀</span><span style=\"font-style: italic\">                 </span>\n",
       "<span style=\"font-weight: bold\">                                                                   </span>\n",
       " ╭───────────────────────────────────────────────────────────────╮ \n",
       " │   <span style=\"color: #c0c0c0; text-decoration-color: #c0c0c0; background-color: #008000; font-weight: bold\">Owner</span>                                                       │ \n",
       " │   <span style=\"font-weight: bold; text-decoration: underline\">road-ray</span>                                        Active ✅   │ \n",
       " │                                                               │ \n",
       " │   <span style=\"font-weight: bold\">URI:</span> ray://road-ray-head-svc.default.svc:10001              │ \n",
       " │                                                               │ \n",
       " │   <a href=\"https://codeflare-raydashboard.research.ibm.com?rayclustername=road-ray\" target=\"_blank\"><span style=\"color: #000080; text-decoration-color: #000080; text-decoration: underline\">Dashboard🔗</span></a>                                                 │ \n",
       " │                                                               │ \n",
       " │  <span style=\"font-style: italic\">                    Cluster Resources                     </span>   │ \n",
       " │   ╭─ Workers ──╮  ╭───────── Worker specs(each) ─────────╮    │ \n",
       " │   │ <span style=\"font-weight: bold\"> Min  Max </span> │  │ <span style=\"font-weight: bold\"> Memory      CPU         GPU        </span> │    │ \n",
       " │   │ <span style=\"color: #008080; text-decoration-color: #008080\">     </span><span style=\"color: #800080; text-decoration-color: #800080\">     </span> │  │ <span style=\"color: #008080; text-decoration-color: #008080\">            </span><span style=\"color: #800080; text-decoration-color: #800080\">                        </span> │    │ \n",
       " │   │ <span style=\"color: #008080; text-decoration-color: #008080\"> 1   </span><span style=\"color: #800080; text-decoration-color: #800080\"> 1   </span> │  │ <span style=\"color: #008080; text-decoration-color: #008080\"> 8G~8G      </span><span style=\"color: #800080; text-decoration-color: #800080\"> 2           0          </span> │    │ \n",
       " │   │ <span style=\"color: #008080; text-decoration-color: #008080\">     </span><span style=\"color: #800080; text-decoration-color: #800080\">     </span> │  │ <span style=\"color: #008080; text-decoration-color: #008080\">            </span><span style=\"color: #800080; text-decoration-color: #800080\">                        </span> │    │ \n",
       " │   ╰────────────╯  ╰──────────────────────────────────────╯    │ \n",
       " ╰───────────────────────────────────────────────────────────────╯ \n",
       "</pre>\n"
      ],
      "text/plain": [
       "\u001b[3m                 \u001b[0m\u001b[1;3m 🚀 List of CodeFlare clusters 🚀\u001b[0m\u001b[3m                 \u001b[0m\n",
       "\u001b[1m \u001b[0m\u001b[1m                                                                 \u001b[0m\u001b[1m \u001b[0m\n",
       " ╭───────────────────────────────────────────────────────────────╮ \n",
       " │   \u001b[1;37;42mOwner\u001b[0m                                                       │ \n",
       " │   \u001b[1;4mroad-ray\u001b[0m                                        Active ✅   │ \n",
       " │                                                               │ \n",
       " │   \u001b[1mURI:\u001b[0m ray://road-ray-head-svc.default.svc:10001              │ \n",
       " │                                                               │ \n",
       " │   \u001b]8;id=797066;https://codeflare-raydashboard.research.ibm.com?rayclustername=road-ray\u001b\\\u001b[4;34mDashboard🔗\u001b[0m\u001b]8;;\u001b\\                                                 │ \n",
       " │                                                               │ \n",
       " │  \u001b[3m                    Cluster Resources                     \u001b[0m   │ \n",
       " │   ╭─ Workers ──╮  ╭───────── Worker specs(each) ─────────╮    │ \n",
       " │   │ \u001b[1m \u001b[0m\u001b[1mMin\u001b[0m\u001b[1m \u001b[0m\u001b[1m \u001b[0m\u001b[1mMax\u001b[0m\u001b[1m \u001b[0m │  │ \u001b[1m \u001b[0m\u001b[1mMemory    \u001b[0m\u001b[1m \u001b[0m\u001b[1m \u001b[0m\u001b[1mCPU       \u001b[0m\u001b[1m \u001b[0m\u001b[1m \u001b[0m\u001b[1mGPU       \u001b[0m\u001b[1m \u001b[0m │    │ \n",
       " │   │ \u001b[36m \u001b[0m\u001b[36m   \u001b[0m\u001b[36m \u001b[0m\u001b[35m \u001b[0m\u001b[35m   \u001b[0m\u001b[35m \u001b[0m │  │ \u001b[36m \u001b[0m\u001b[36m          \u001b[0m\u001b[36m \u001b[0m\u001b[35m \u001b[0m\u001b[35m          \u001b[0m\u001b[35m \u001b[0m\u001b[35m \u001b[0m\u001b[35m          \u001b[0m\u001b[35m \u001b[0m │    │ \n",
       " │   │ \u001b[36m \u001b[0m\u001b[36m1  \u001b[0m\u001b[36m \u001b[0m\u001b[35m \u001b[0m\u001b[35m1  \u001b[0m\u001b[35m \u001b[0m │  │ \u001b[36m \u001b[0m\u001b[36m8G~8G     \u001b[0m\u001b[36m \u001b[0m\u001b[35m \u001b[0m\u001b[35m2         \u001b[0m\u001b[35m \u001b[0m\u001b[35m \u001b[0m\u001b[35m0         \u001b[0m\u001b[35m \u001b[0m │    │ \n",
       " │   │ \u001b[36m \u001b[0m\u001b[36m   \u001b[0m\u001b[36m \u001b[0m\u001b[35m \u001b[0m\u001b[35m   \u001b[0m\u001b[35m \u001b[0m │  │ \u001b[36m \u001b[0m\u001b[36m          \u001b[0m\u001b[36m \u001b[0m\u001b[35m \u001b[0m\u001b[35m          \u001b[0m\u001b[35m \u001b[0m\u001b[35m \u001b[0m\u001b[35m          \u001b[0m\u001b[35m \u001b[0m │    │ \n",
       " │   ╰────────────╯  ╰──────────────────────────────────────╯    │ \n",
       " ╰───────────────────────────────────────────────────────────────╯ \n"
      ]
     },
     "metadata": {},
     "output_type": "display_data"
    },
    {
     "data": {
      "text/plain": [
       "(<CodeFlareClusterStatus.READY: 1>, True)"
      ]
     },
     "execution_count": 6,
     "metadata": {},
     "output_type": "execute_result"
    }
   ],
   "source": [
    "cluster.is_ready()"
   ]
  },
  {
   "cell_type": "code",
   "execution_count": 7,
   "id": "05c81337-01fc-4b39-848d-908e9ca53ad9",
   "metadata": {},
   "outputs": [
    {
     "data": {
      "text/html": [
       "<pre style=\"white-space:pre;overflow-x:auto;line-height:normal;font-family:Menlo,'DejaVu Sans Mono',consolas,'Courier New',monospace\"><span style=\"font-style: italic\">                 </span><span style=\"font-weight: bold; font-style: italic\"> 🚀 List of CodeFlare clusters 🚀</span><span style=\"font-style: italic\">                 </span>\n",
       "<span style=\"font-weight: bold\">                                                                   </span>\n",
       " ╭───────────────────────────────────────────────────────────────╮ \n",
       " │   <span style=\"color: #c0c0c0; text-decoration-color: #c0c0c0; background-color: #008000; font-weight: bold\">Owner</span>                                                       │ \n",
       " │   <span style=\"font-weight: bold; text-decoration: underline\">road-ray</span>                                        Active ✅   │ \n",
       " │                                                               │ \n",
       " │   <span style=\"font-weight: bold\">URI:</span> ray://road-ray-head-svc.default.svc:10001              │ \n",
       " │                                                               │ \n",
       " │   <a href=\"https://codeflare-raydashboard.research.ibm.com?rayclustername=road-ray\" target=\"_blank\"><span style=\"color: #000080; text-decoration-color: #000080; text-decoration: underline\">Dashboard🔗</span></a>                                                 │ \n",
       " │                                                               │ \n",
       " │  <span style=\"font-style: italic\">                    Cluster Resources                     </span>   │ \n",
       " │   ╭─ Workers ──╮  ╭───────── Worker specs(each) ─────────╮    │ \n",
       " │   │ <span style=\"font-weight: bold\"> Min  Max </span> │  │ <span style=\"font-weight: bold\"> Memory      CPU         GPU        </span> │    │ \n",
       " │   │ <span style=\"color: #008080; text-decoration-color: #008080\">     </span><span style=\"color: #800080; text-decoration-color: #800080\">     </span> │  │ <span style=\"color: #008080; text-decoration-color: #008080\">            </span><span style=\"color: #800080; text-decoration-color: #800080\">                        </span> │    │ \n",
       " │   │ <span style=\"color: #008080; text-decoration-color: #008080\"> 1   </span><span style=\"color: #800080; text-decoration-color: #800080\"> 1   </span> │  │ <span style=\"color: #008080; text-decoration-color: #008080\"> 8G~8G      </span><span style=\"color: #800080; text-decoration-color: #800080\"> 2           0          </span> │    │ \n",
       " │   │ <span style=\"color: #008080; text-decoration-color: #008080\">     </span><span style=\"color: #800080; text-decoration-color: #800080\">     </span> │  │ <span style=\"color: #008080; text-decoration-color: #008080\">            </span><span style=\"color: #800080; text-decoration-color: #800080\">                        </span> │    │ \n",
       " │   ╰────────────╯  ╰──────────────────────────────────────╯    │ \n",
       " ╰───────────────────────────────────────────────────────────────╯ \n",
       "</pre>\n"
      ],
      "text/plain": [
       "\u001b[3m                 \u001b[0m\u001b[1;3m 🚀 List of CodeFlare clusters 🚀\u001b[0m\u001b[3m                 \u001b[0m\n",
       "\u001b[1m \u001b[0m\u001b[1m                                                                 \u001b[0m\u001b[1m \u001b[0m\n",
       " ╭───────────────────────────────────────────────────────────────╮ \n",
       " │   \u001b[1;37;42mOwner\u001b[0m                                                       │ \n",
       " │   \u001b[1;4mroad-ray\u001b[0m                                        Active ✅   │ \n",
       " │                                                               │ \n",
       " │   \u001b[1mURI:\u001b[0m ray://road-ray-head-svc.default.svc:10001              │ \n",
       " │                                                               │ \n",
       " │   \u001b]8;id=293286;https://codeflare-raydashboard.research.ibm.com?rayclustername=road-ray\u001b\\\u001b[4;34mDashboard🔗\u001b[0m\u001b]8;;\u001b\\                                                 │ \n",
       " │                                                               │ \n",
       " │  \u001b[3m                    Cluster Resources                     \u001b[0m   │ \n",
       " │   ╭─ Workers ──╮  ╭───────── Worker specs(each) ─────────╮    │ \n",
       " │   │ \u001b[1m \u001b[0m\u001b[1mMin\u001b[0m\u001b[1m \u001b[0m\u001b[1m \u001b[0m\u001b[1mMax\u001b[0m\u001b[1m \u001b[0m │  │ \u001b[1m \u001b[0m\u001b[1mMemory    \u001b[0m\u001b[1m \u001b[0m\u001b[1m \u001b[0m\u001b[1mCPU       \u001b[0m\u001b[1m \u001b[0m\u001b[1m \u001b[0m\u001b[1mGPU       \u001b[0m\u001b[1m \u001b[0m │    │ \n",
       " │   │ \u001b[36m \u001b[0m\u001b[36m   \u001b[0m\u001b[36m \u001b[0m\u001b[35m \u001b[0m\u001b[35m   \u001b[0m\u001b[35m \u001b[0m │  │ \u001b[36m \u001b[0m\u001b[36m          \u001b[0m\u001b[36m \u001b[0m\u001b[35m \u001b[0m\u001b[35m          \u001b[0m\u001b[35m \u001b[0m\u001b[35m \u001b[0m\u001b[35m          \u001b[0m\u001b[35m \u001b[0m │    │ \n",
       " │   │ \u001b[36m \u001b[0m\u001b[36m1  \u001b[0m\u001b[36m \u001b[0m\u001b[35m \u001b[0m\u001b[35m1  \u001b[0m\u001b[35m \u001b[0m │  │ \u001b[36m \u001b[0m\u001b[36m8G~8G     \u001b[0m\u001b[36m \u001b[0m\u001b[35m \u001b[0m\u001b[35m2         \u001b[0m\u001b[35m \u001b[0m\u001b[35m \u001b[0m\u001b[35m0         \u001b[0m\u001b[35m \u001b[0m │    │ \n",
       " │   │ \u001b[36m \u001b[0m\u001b[36m   \u001b[0m\u001b[36m \u001b[0m\u001b[35m \u001b[0m\u001b[35m   \u001b[0m\u001b[35m \u001b[0m │  │ \u001b[36m \u001b[0m\u001b[36m          \u001b[0m\u001b[36m \u001b[0m\u001b[35m \u001b[0m\u001b[35m          \u001b[0m\u001b[35m \u001b[0m\u001b[35m \u001b[0m\u001b[35m          \u001b[0m\u001b[35m \u001b[0m │    │ \n",
       " │   ╰────────────╯  ╰──────────────────────────────────────╯    │ \n",
       " ╰───────────────────────────────────────────────────────────────╯ \n"
      ]
     },
     "metadata": {},
     "output_type": "display_data"
    },
    {
     "data": {
      "text/plain": [
       "<RayClusterStatus.READY: 'ready'>"
      ]
     },
     "execution_count": 7,
     "metadata": {},
     "output_type": "execute_result"
    }
   ],
   "source": [
    "cluster.status()"
   ]
  },
  {
   "cell_type": "code",
   "execution_count": 8,
   "id": "cbc258c9-cff1-4e12-875a-9e64821a58e4",
   "metadata": {},
   "outputs": [],
   "source": [
    "ray_cluster_uri = cluster.cluster_uri()"
   ]
  },
  {
   "cell_type": "markdown",
   "id": "686ce54d-2e6b-4f10-8a74-92ab2fc9254e",
   "metadata": {},
   "source": [
    "**Below we will go ahead and connect to this cluster so that we can run our code on it.**"
   ]
  },
  {
   "cell_type": "code",
   "execution_count": 9,
   "id": "164bdbfa-928b-4439-b023-aee648848bf5",
   "metadata": {},
   "outputs": [
    {
     "name": "stdout",
     "output_type": "stream",
     "text": [
      "Ray cluster is up and running:  True\n"
     ]
    }
   ],
   "source": [
    "#before proceeding make sure the cluster exists and the uri is not empty\n",
    "assert ray_cluster_uri, \"Ray cluster needs to be started and set before proceeding\"\n",
    "\n",
    "import ray\n",
    "\n",
    "# reset the ray context in case there's already one. \n",
    "ray.shutdown()\n",
    "# establish connection to ray cluster\n",
    "\n",
    "#install additionall libraries that will be required for this training\n",
    "runtime_env = {\"pip\": [\"scikit-learn\"]}\n",
    "\n",
    "ray.init(address=f'{ray_cluster_uri}', runtime_env=runtime_env)\n",
    "\n",
    "print(\"Ray cluster is up and running: \", ray.is_initialized())"
   ]
  },
  {
   "cell_type": "markdown",
   "id": "9b0b4718-8add-4aa5-9867-9c03ae77da13",
   "metadata": {},
   "source": [
    "## Load Data"
   ]
  },
  {
   "cell_type": "code",
   "execution_count": 13,
   "id": "a97a8ea5-840f-4cbb-b04a-5c5e552a65dc",
   "metadata": {},
   "outputs": [
    {
     "name": "stdout",
     "output_type": "stream",
     "text": [
      "\u001b[33mWARNING: Ignoring invalid distribution - (/opt/app-root/lib/python3.8/site-packages)\u001b[0m\n",
      "\u001b[33mWARNING: Ignoring invalid distribution -cikit-learn (/opt/app-root/lib/python3.8/site-packages)\u001b[0m\n",
      "\u001b[33mWARNING: Ignoring invalid distribution - (/opt/app-root/lib/python3.8/site-packages)\u001b[0m\n",
      "\u001b[33mWARNING: Ignoring invalid distribution -cikit-learn (/opt/app-root/lib/python3.8/site-packages)\u001b[0m\n",
      "Collecting pandas==1.5.1\n",
      "  Downloading pandas-1.5.1-cp38-cp38-manylinux_2_17_x86_64.manylinux2014_x86_64.whl (12.2 MB)\n",
      "\u001b[K     |████████████████████████████████| 12.2 MB 4.7 MB/s eta 0:00:01\n",
      "\u001b[?25hCollecting scikit-learn==1.1.3\n",
      "  Downloading scikit_learn-1.1.3-cp38-cp38-manylinux_2_17_x86_64.manylinux2014_x86_64.whl (31.2 MB)\n",
      "\u001b[K     |████████████████████████████████| 31.2 MB 131.9 MB/s eta 0:00:01\n",
      "\u001b[?25hCollecting Flask==2.2.2\n",
      "  Downloading Flask-2.2.2-py3-none-any.whl (101 kB)\n",
      "\u001b[K     |████████████████████████████████| 101 kB 135.3 MB/s ta 0:00:01\n",
      "\u001b[?25hRequirement already satisfied: joblib==1.2.0 in /opt/app-root/lib/python3.8/site-packages (from -r requirements.txt (line 10)) (1.2.0)\n",
      "Requirement already satisfied: sklearn==0.0 in /opt/app-root/lib/python3.8/site-packages (from -r requirements.txt (line 11)) (0.0)\n",
      "Requirement already satisfied: numpy>=1.20.3 in /opt/app-root/lib/python3.8/site-packages (from pandas==1.5.1->-r requirements.txt (line 7)) (1.23.3)\n",
      "Requirement already satisfied: python-dateutil>=2.8.1 in /opt/app-root/lib/python3.8/site-packages (from pandas==1.5.1->-r requirements.txt (line 7)) (2.8.2)\n",
      "Requirement already satisfied: pytz>=2020.1 in /opt/app-root/lib/python3.8/site-packages (from pandas==1.5.1->-r requirements.txt (line 7)) (2022.2.1)\n",
      "Requirement already satisfied: threadpoolctl>=2.0.0 in /opt/app-root/lib/python3.8/site-packages (from scikit-learn==1.1.3->-r requirements.txt (line 8)) (3.1.0)\n",
      "Requirement already satisfied: scipy>=1.3.2 in /opt/app-root/lib/python3.8/site-packages (from scikit-learn==1.1.3->-r requirements.txt (line 8)) (1.8.1)\n",
      "Requirement already satisfied: Werkzeug>=2.2.2 in /opt/app-root/lib/python3.8/site-packages (from Flask==2.2.2->-r requirements.txt (line 9)) (2.2.2)\n",
      "Requirement already satisfied: click>=8.0 in /opt/app-root/lib/python3.8/site-packages (from Flask==2.2.2->-r requirements.txt (line 9)) (8.0.4)\n",
      "Requirement already satisfied: importlib-metadata>=3.6.0 in /opt/app-root/lib/python3.8/site-packages (from Flask==2.2.2->-r requirements.txt (line 9)) (4.12.0)\n",
      "Requirement already satisfied: Jinja2>=3.0 in /opt/app-root/lib/python3.8/site-packages (from Flask==2.2.2->-r requirements.txt (line 9)) (3.1.2)\n",
      "Collecting itsdangerous>=2.0\n",
      "  Downloading itsdangerous-2.1.2-py3-none-any.whl (15 kB)\n",
      "Requirement already satisfied: zipp>=0.5 in /opt/app-root/lib/python3.8/site-packages (from importlib-metadata>=3.6.0->Flask==2.2.2->-r requirements.txt (line 9)) (3.8.1)\n",
      "Requirement already satisfied: MarkupSafe>=2.0 in /opt/app-root/lib/python3.8/site-packages (from Jinja2>=3.0->Flask==2.2.2->-r requirements.txt (line 9)) (2.1.1)\n",
      "Requirement already satisfied: six>=1.5 in /opt/app-root/lib/python3.8/site-packages (from python-dateutil>=2.8.1->pandas==1.5.1->-r requirements.txt (line 7)) (1.16.0)\n",
      "\u001b[33mWARNING: Ignoring invalid distribution - (/opt/app-root/lib/python3.8/site-packages)\u001b[0m\n",
      "\u001b[33mWARNING: Ignoring invalid distribution -cikit-learn (/opt/app-root/lib/python3.8/site-packages)\u001b[0m\n",
      "Installing collected packages: scikit-learn, itsdangerous, pandas, Flask\n",
      "  Attempting uninstall: scikit-learn\n",
      "\u001b[33m    WARNING: Ignoring invalid distribution - (/opt/app-root/lib/python3.8/site-packages)\u001b[0m\n",
      "\u001b[33m    WARNING: Ignoring invalid distribution -cikit-learn (/opt/app-root/lib/python3.8/site-packages)\u001b[0m\n",
      "    Found existing installation: scikit-learn 1.1.1\n",
      "    Uninstalling scikit-learn-1.1.1:\n",
      "\u001b[31mERROR: Could not install packages due to an OSError: [Errno 13] Permission denied: 'COPYING'\n",
      "Check the permissions.\n",
      "\u001b[0m\n",
      "\u001b[33mWARNING: Ignoring invalid distribution - (/opt/app-root/lib/python3.8/site-packages)\u001b[0m\n",
      "\u001b[33mWARNING: Ignoring invalid distribution -cikit-learn (/opt/app-root/lib/python3.8/site-packages)\u001b[0m\n",
      "\u001b[33mWARNING: Ignoring invalid distribution - (/opt/app-root/lib/python3.8/site-packages)\u001b[0m\n",
      "\u001b[33mWARNING: Ignoring invalid distribution -cikit-learn (/opt/app-root/lib/python3.8/site-packages)\u001b[0m\n",
      "\u001b[33mWARNING: Ignoring invalid distribution - (/opt/app-root/lib/python3.8/site-packages)\u001b[0m\n",
      "\u001b[33mWARNING: Ignoring invalid distribution -cikit-learn (/opt/app-root/lib/python3.8/site-packages)\u001b[0m\n",
      "\u001b[33mWARNING: You are using pip version 21.2.3; however, version 22.3 is available.\n",
      "You should consider upgrading via the '/opt/app-root/bin/python3.8 -m pip install --upgrade pip' command.\u001b[0m\n",
      "           acc_x     acc_y     acc_z     speed    gyro_x    gyro_y    gyro_z  \\\n",
      "0       0.365116  0.167893  9.793961  0.009128 -0.133896 -0.018883  0.138092   \n",
      "1       0.392649  0.176273  9.771216  0.009128 -0.027084 -0.003624  0.000763   \n",
      "2       0.409408  0.181062  9.732909  0.009128  0.125504 -0.186729 -0.090790   \n",
      "3       0.371101  0.164302  9.749668  0.009128 -0.088120 -0.034142  0.046539   \n",
      "4       0.390255  0.159514  9.869378  0.009128 -0.179672  0.118446 -0.182343   \n",
      "...          ...       ...       ...       ...       ...       ...       ...   \n",
      "144031 -0.527921 -0.322918  9.583271  0.005715 -0.332260 -0.095177 -0.060272   \n",
      "144032 -0.663194 -0.575506  9.433633  0.005715 -0.240707 -0.308800 -0.182343   \n",
      "144033 -0.375890 -0.245106  9.957964  0.005715  0.064468 -0.156212  0.000763   \n",
      "144034 -0.385466 -0.091877  9.840648  0.005715 -0.423813  0.820351 -0.243378   \n",
      "144035 -0.575805 -0.502483  9.457575  0.005715 -0.500107  0.057411 -0.060272   \n",
      "\n",
      "        road_condition  \n",
      "0                    2  \n",
      "1                    2  \n",
      "2                    2  \n",
      "3                    2  \n",
      "4                    2  \n",
      "...                ...  \n",
      "144031               2  \n",
      "144032               2  \n",
      "144033               2  \n",
      "144034               2  \n",
      "144035               2  \n",
      "\n",
      "[144036 rows x 8 columns]\n"
     ]
    }
   ],
   "source": [
    "!pip install -r requirements.txt\n",
    "import joblib\n",
    "import pandas as pd\n",
    "\n",
    "df = pd.read_csv('road_roughness_data.csv')\n",
    "print(df)"
   ]
  },
  {
   "cell_type": "markdown",
   "id": "9ecae26a-0048-46ed-8cb6-e67940376209",
   "metadata": {},
   "source": [
    "## Features"
   ]
  },
  {
   "cell_type": "code",
   "execution_count": 14,
   "id": "1690576d-ffe0-455d-9091-199ad3212b42",
   "metadata": {},
   "outputs": [
    {
     "data": {
      "text/html": [
       "<div>\n",
       "<style scoped>\n",
       "    .dataframe tbody tr th:only-of-type {\n",
       "        vertical-align: middle;\n",
       "    }\n",
       "\n",
       "    .dataframe tbody tr th {\n",
       "        vertical-align: top;\n",
       "    }\n",
       "\n",
       "    .dataframe thead th {\n",
       "        text-align: right;\n",
       "    }\n",
       "</style>\n",
       "<table border=\"1\" class=\"dataframe\">\n",
       "  <thead>\n",
       "    <tr style=\"text-align: right;\">\n",
       "      <th></th>\n",
       "      <th>acc_x</th>\n",
       "      <th>acc_y</th>\n",
       "      <th>acc_z</th>\n",
       "      <th>speed</th>\n",
       "      <th>gyro_x</th>\n",
       "      <th>gyro_y</th>\n",
       "      <th>gyro_z</th>\n",
       "    </tr>\n",
       "  </thead>\n",
       "  <tbody>\n",
       "    <tr>\n",
       "      <th>0</th>\n",
       "      <td>0.365116</td>\n",
       "      <td>0.167893</td>\n",
       "      <td>9.793961</td>\n",
       "      <td>0.009128</td>\n",
       "      <td>-0.133896</td>\n",
       "      <td>-0.018883</td>\n",
       "      <td>0.138092</td>\n",
       "    </tr>\n",
       "    <tr>\n",
       "      <th>1</th>\n",
       "      <td>0.392649</td>\n",
       "      <td>0.176273</td>\n",
       "      <td>9.771216</td>\n",
       "      <td>0.009128</td>\n",
       "      <td>-0.027084</td>\n",
       "      <td>-0.003624</td>\n",
       "      <td>0.000763</td>\n",
       "    </tr>\n",
       "    <tr>\n",
       "      <th>2</th>\n",
       "      <td>0.409408</td>\n",
       "      <td>0.181062</td>\n",
       "      <td>9.732909</td>\n",
       "      <td>0.009128</td>\n",
       "      <td>0.125504</td>\n",
       "      <td>-0.186729</td>\n",
       "      <td>-0.090790</td>\n",
       "    </tr>\n",
       "    <tr>\n",
       "      <th>3</th>\n",
       "      <td>0.371101</td>\n",
       "      <td>0.164302</td>\n",
       "      <td>9.749668</td>\n",
       "      <td>0.009128</td>\n",
       "      <td>-0.088120</td>\n",
       "      <td>-0.034142</td>\n",
       "      <td>0.046539</td>\n",
       "    </tr>\n",
       "    <tr>\n",
       "      <th>4</th>\n",
       "      <td>0.390255</td>\n",
       "      <td>0.159514</td>\n",
       "      <td>9.869378</td>\n",
       "      <td>0.009128</td>\n",
       "      <td>-0.179672</td>\n",
       "      <td>0.118446</td>\n",
       "      <td>-0.182343</td>\n",
       "    </tr>\n",
       "    <tr>\n",
       "      <th>...</th>\n",
       "      <td>...</td>\n",
       "      <td>...</td>\n",
       "      <td>...</td>\n",
       "      <td>...</td>\n",
       "      <td>...</td>\n",
       "      <td>...</td>\n",
       "      <td>...</td>\n",
       "    </tr>\n",
       "    <tr>\n",
       "      <th>144031</th>\n",
       "      <td>-0.527921</td>\n",
       "      <td>-0.322918</td>\n",
       "      <td>9.583271</td>\n",
       "      <td>0.005715</td>\n",
       "      <td>-0.332260</td>\n",
       "      <td>-0.095177</td>\n",
       "      <td>-0.060272</td>\n",
       "    </tr>\n",
       "    <tr>\n",
       "      <th>144032</th>\n",
       "      <td>-0.663194</td>\n",
       "      <td>-0.575506</td>\n",
       "      <td>9.433633</td>\n",
       "      <td>0.005715</td>\n",
       "      <td>-0.240707</td>\n",
       "      <td>-0.308800</td>\n",
       "      <td>-0.182343</td>\n",
       "    </tr>\n",
       "    <tr>\n",
       "      <th>144033</th>\n",
       "      <td>-0.375890</td>\n",
       "      <td>-0.245106</td>\n",
       "      <td>9.957964</td>\n",
       "      <td>0.005715</td>\n",
       "      <td>0.064468</td>\n",
       "      <td>-0.156212</td>\n",
       "      <td>0.000763</td>\n",
       "    </tr>\n",
       "    <tr>\n",
       "      <th>144034</th>\n",
       "      <td>-0.385466</td>\n",
       "      <td>-0.091877</td>\n",
       "      <td>9.840648</td>\n",
       "      <td>0.005715</td>\n",
       "      <td>-0.423813</td>\n",
       "      <td>0.820351</td>\n",
       "      <td>-0.243378</td>\n",
       "    </tr>\n",
       "    <tr>\n",
       "      <th>144035</th>\n",
       "      <td>-0.575805</td>\n",
       "      <td>-0.502483</td>\n",
       "      <td>9.457575</td>\n",
       "      <td>0.005715</td>\n",
       "      <td>-0.500107</td>\n",
       "      <td>0.057411</td>\n",
       "      <td>-0.060272</td>\n",
       "    </tr>\n",
       "  </tbody>\n",
       "</table>\n",
       "<p>144036 rows × 7 columns</p>\n",
       "</div>"
      ],
      "text/plain": [
       "           acc_x     acc_y     acc_z     speed    gyro_x    gyro_y    gyro_z\n",
       "0       0.365116  0.167893  9.793961  0.009128 -0.133896 -0.018883  0.138092\n",
       "1       0.392649  0.176273  9.771216  0.009128 -0.027084 -0.003624  0.000763\n",
       "2       0.409408  0.181062  9.732909  0.009128  0.125504 -0.186729 -0.090790\n",
       "3       0.371101  0.164302  9.749668  0.009128 -0.088120 -0.034142  0.046539\n",
       "4       0.390255  0.159514  9.869378  0.009128 -0.179672  0.118446 -0.182343\n",
       "...          ...       ...       ...       ...       ...       ...       ...\n",
       "144031 -0.527921 -0.322918  9.583271  0.005715 -0.332260 -0.095177 -0.060272\n",
       "144032 -0.663194 -0.575506  9.433633  0.005715 -0.240707 -0.308800 -0.182343\n",
       "144033 -0.375890 -0.245106  9.957964  0.005715  0.064468 -0.156212  0.000763\n",
       "144034 -0.385466 -0.091877  9.840648  0.005715 -0.423813  0.820351 -0.243378\n",
       "144035 -0.575805 -0.502483  9.457575  0.005715 -0.500107  0.057411 -0.060272\n",
       "\n",
       "[144036 rows x 7 columns]"
      ]
     },
     "execution_count": 14,
     "metadata": {},
     "output_type": "execute_result"
    }
   ],
   "source": [
    "df.iloc[:,:-1]"
   ]
  },
  {
   "cell_type": "markdown",
   "id": "35e626b6-da7f-4126-bce0-183a2c367f22",
   "metadata": {},
   "source": [
    "## Target variable"
   ]
  },
  {
   "cell_type": "code",
   "execution_count": 15,
   "id": "286189ec-13d5-4664-a471-4d1acd81cb32",
   "metadata": {},
   "outputs": [
    {
     "data": {
      "text/html": [
       "<div>\n",
       "<style scoped>\n",
       "    .dataframe tbody tr th:only-of-type {\n",
       "        vertical-align: middle;\n",
       "    }\n",
       "\n",
       "    .dataframe tbody tr th {\n",
       "        vertical-align: top;\n",
       "    }\n",
       "\n",
       "    .dataframe thead th {\n",
       "        text-align: right;\n",
       "    }\n",
       "</style>\n",
       "<table border=\"1\" class=\"dataframe\">\n",
       "  <thead>\n",
       "    <tr style=\"text-align: right;\">\n",
       "      <th></th>\n",
       "      <th>road_condition</th>\n",
       "    </tr>\n",
       "  </thead>\n",
       "  <tbody>\n",
       "    <tr>\n",
       "      <th>0</th>\n",
       "      <td>2</td>\n",
       "    </tr>\n",
       "    <tr>\n",
       "      <th>1</th>\n",
       "      <td>2</td>\n",
       "    </tr>\n",
       "    <tr>\n",
       "      <th>2</th>\n",
       "      <td>2</td>\n",
       "    </tr>\n",
       "    <tr>\n",
       "      <th>3</th>\n",
       "      <td>2</td>\n",
       "    </tr>\n",
       "    <tr>\n",
       "      <th>4</th>\n",
       "      <td>2</td>\n",
       "    </tr>\n",
       "    <tr>\n",
       "      <th>...</th>\n",
       "      <td>...</td>\n",
       "    </tr>\n",
       "    <tr>\n",
       "      <th>144031</th>\n",
       "      <td>2</td>\n",
       "    </tr>\n",
       "    <tr>\n",
       "      <th>144032</th>\n",
       "      <td>2</td>\n",
       "    </tr>\n",
       "    <tr>\n",
       "      <th>144033</th>\n",
       "      <td>2</td>\n",
       "    </tr>\n",
       "    <tr>\n",
       "      <th>144034</th>\n",
       "      <td>2</td>\n",
       "    </tr>\n",
       "    <tr>\n",
       "      <th>144035</th>\n",
       "      <td>2</td>\n",
       "    </tr>\n",
       "  </tbody>\n",
       "</table>\n",
       "<p>144036 rows × 1 columns</p>\n",
       "</div>"
      ],
      "text/plain": [
       "        road_condition\n",
       "0                    2\n",
       "1                    2\n",
       "2                    2\n",
       "3                    2\n",
       "4                    2\n",
       "...                ...\n",
       "144031               2\n",
       "144032               2\n",
       "144033               2\n",
       "144034               2\n",
       "144035               2\n",
       "\n",
       "[144036 rows x 1 columns]"
      ]
     },
     "execution_count": 15,
     "metadata": {},
     "output_type": "execute_result"
    }
   ],
   "source": [
    "df.iloc[:,-1:]"
   ]
  },
  {
   "cell_type": "markdown",
   "id": "cc331bf6-5633-4abd-94bb-b297007798a4",
   "metadata": {},
   "source": [
    "## Split data into Train and Test sets"
   ]
  },
  {
   "cell_type": "code",
   "execution_count": 16,
   "id": "04492de3-d8ea-47d8-9a27-d4bc186e6c1d",
   "metadata": {},
   "outputs": [],
   "source": [
    "# Import train_test_split function\n",
    "from sklearn.model_selection import train_test_split\n",
    "\n",
    "X = df.iloc[:,:-1]\n",
    "#y = df.iloc[:,-1:]\n",
    "y = df['road_condition']\n",
    "\n",
    "# Split dataset into training set and test set\n",
    "X_train, X_test, y_train, y_test = train_test_split(X, y, test_size=0.80) # 70% training and 30% test"
   ]
  },
  {
   "cell_type": "code",
   "execution_count": 17,
   "id": "5feb1664-e888-4a46-b4e2-cdb8a4c07a19",
   "metadata": {},
   "outputs": [],
   "source": [
    "# Create Ray object references\n",
    "X_train_remote, X_test_remote, y_train_remote, y_test_remote = ray.put(X_train), ray.put(X_test), ray.put(y_train), ray.put(y_test)"
   ]
  },
  {
   "cell_type": "markdown",
   "id": "cab413eb-f6c3-4441-921a-ba2ab130c2bb",
   "metadata": {},
   "source": [
    "## Fit Random Forest Classifier to Train set and Run prediction on test data"
   ]
  },
  {
   "cell_type": "code",
   "execution_count": 18,
   "id": "449dc16b-a5f7-454a-a2eb-8470eb79cb59",
   "metadata": {},
   "outputs": [],
   "source": [
    "@ray.remote\n",
    "def train_fn(X_train, y_train, X_test):\n",
    "    #Import Random Forest Model\n",
    "    from sklearn.ensemble import RandomForestClassifier\n",
    "\n",
    "    #Create a Gaussian Classifier\n",
    "    clf = RandomForestClassifier(n_estimators=100,verbose=1)\n",
    "\n",
    "    #Train the model using the training sets y_pred=clf.predict(X_test)\n",
    "    clf.fit(X_train,y_train)\n",
    "    \n",
    "    #Run prediction on test data and return the results\n",
    "    y_pred = clf.predict(X_test)\n",
    "    return y_pred, clf"
   ]
  },
  {
   "cell_type": "code",
   "execution_count": 19,
   "id": "e1129c2d-370f-47b5-b72b-00c0f5378a7c",
   "metadata": {},
   "outputs": [
    {
     "name": "stderr",
     "output_type": "stream",
     "text": [
      "\u001b[2m\u001b[36m(train_fn pid=241)\u001b[0m [Parallel(n_jobs=1)]: Using backend SequentialBackend with 1 concurrent workers.\n",
      "\u001b[2m\u001b[36m(train_fn pid=241)\u001b[0m [Parallel(n_jobs=1)]: Done 100 out of 100 | elapsed:    4.0s finished\n",
      "\u001b[2m\u001b[36m(train_fn pid=241)\u001b[0m [Parallel(n_jobs=1)]: Using backend SequentialBackend with 1 concurrent workers.\n",
      "\u001b[2m\u001b[36m(train_fn pid=241)\u001b[0m [Parallel(n_jobs=1)]: Done 100 out of 100 | elapsed:    1.4s finished\n",
      "/opt/app-root/lib64/python3.8/site-packages/sklearn/base.py:329: UserWarning: Trying to unpickle estimator DecisionTreeClassifier from version 1.1.3 when using version 1.1.1. This might lead to breaking code or invalid results. Use at your own risk. For more info please refer to:\n",
      "https://scikit-learn.org/stable/model_persistence.html#security-maintainability-limitations\n",
      "  warnings.warn(\n",
      "/opt/app-root/lib64/python3.8/site-packages/sklearn/base.py:329: UserWarning: Trying to unpickle estimator RandomForestClassifier from version 1.1.3 when using version 1.1.1. This might lead to breaking code or invalid results. Use at your own risk. For more info please refer to:\n",
      "https://scikit-learn.org/stable/model_persistence.html#security-maintainability-limitations\n",
      "  warnings.warn(\n"
     ]
    }
   ],
   "source": [
    "y_pred, clf = ray.get(train_fn.remote(X_train_remote, y_train_remote, X_test_remote))"
   ]
  },
  {
   "cell_type": "markdown",
   "id": "0296081c-a378-462b-80c5-ee43aa3cce66",
   "metadata": {},
   "source": [
    "**Let's clean up. cluster.down() will delete the Ray cluster, free up resources and delete the AppWrapper CRD.**"
   ]
  },
  {
   "cell_type": "markdown",
   "id": "8560f83c-6714-436e-bab4-a4c7a9eab491",
   "metadata": {},
   "source": [
    "## Test model accuracy"
   ]
  },
  {
   "cell_type": "code",
   "execution_count": 20,
   "id": "f6ed0a75-b551-490a-998b-b809b93cb7c0",
   "metadata": {},
   "outputs": [
    {
     "name": "stdout",
     "output_type": "stream",
     "text": [
      "Accuracy: 0.8925617683048538\n"
     ]
    }
   ],
   "source": [
    "#Import scikit-learn metrics module for accuracy calculation\n",
    "from sklearn import metrics\n",
    "# Model Accuracy, how often is the classifier correct?\n",
    "print(\"Accuracy:\",metrics.accuracy_score(y_test, y_pred))"
   ]
  },
  {
   "cell_type": "markdown",
   "id": "4b573fff-30b0-45cf-998d-6dbd4a2bd1aa",
   "metadata": {},
   "source": [
    "## Save model"
   ]
  },
  {
   "cell_type": "code",
   "execution_count": 21,
   "id": "eda374bc-600c-40ae-b616-ccff432da654",
   "metadata": {},
   "outputs": [
    {
     "data": {
      "text/plain": [
       "['road-model.joblib']"
      ]
     },
     "execution_count": 21,
     "metadata": {},
     "output_type": "execute_result"
    }
   ],
   "source": [
    "# save the model to disk\n",
    "filename = 'road-model.joblib'\n",
    "joblib.dump(clf, filename)"
   ]
  },
  {
   "cell_type": "markdown",
   "id": "8b5e54c4-eede-451b-90df-246a8e8a758d",
   "metadata": {},
   "source": [
    "## Load and Test prediction from saved model"
   ]
  },
  {
   "cell_type": "code",
   "execution_count": 22,
   "id": "0e233a03-0fec-4803-9746-866113bd0f18",
   "metadata": {},
   "outputs": [
    {
     "name": "stderr",
     "output_type": "stream",
     "text": [
      "[Parallel(n_jobs=1)]: Using backend SequentialBackend with 1 concurrent workers.\n"
     ]
    },
    {
     "name": "stdout",
     "output_type": "stream",
     "text": [
      "0.8925617683048538\n"
     ]
    },
    {
     "name": "stderr",
     "output_type": "stream",
     "text": [
      "[Parallel(n_jobs=1)]: Done 100 out of 100 | elapsed:    1.4s finished\n"
     ]
    }
   ],
   "source": [
    "# load the model from disk\n",
    "loaded_model = joblib.load(filename)\n",
    "result = loaded_model.score(X_test, y_test)\n",
    "print(result)"
   ]
  },
  {
   "cell_type": "code",
   "execution_count": 26,
   "id": "ca34d954-67e6-4da6-92e9-04c0f82ae9a1",
   "metadata": {},
   "outputs": [],
   "source": [
    "cluster.down()"
   ]
  },
  {
   "cell_type": "code",
   "execution_count": null,
   "id": "8771a206-46a9-4e48-85d0-7304ea6e2058",
   "metadata": {},
   "outputs": [],
   "source": [
    "!nvidia-smi"
   ]
  },
  {
   "cell_type": "code",
   "execution_count": null,
   "id": "4f802aa7-f25c-463b-8466-52541767ad10",
   "metadata": {},
   "outputs": [],
   "source": []
  }
 ],
 "metadata": {
  "kernelspec": {
   "display_name": "Python 3 (ipykernel)",
   "language": "python",
   "name": "python3"
  },
  "language_info": {
   "codemirror_mode": {
    "name": "ipython",
    "version": 3
   },
   "file_extension": ".py",
   "mimetype": "text/x-python",
   "name": "python",
   "nbconvert_exporter": "python",
   "pygments_lexer": "ipython3",
   "version": "3.8.12"
  }
 },
 "nbformat": 4,
 "nbformat_minor": 5
}

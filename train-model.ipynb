{
 "cells": [
  {
   "cell_type": "code",
   "execution_count": 31,
   "id": "fb5bea11-6510-411c-be13-b03dc667f290",
   "metadata": {},
   "outputs": [
    {
     "name": "stdout",
     "output_type": "stream",
     "text": [
      "Requirement already satisfied: pandas in /opt/app-root/lib/python3.8/site-packages (from -r requirements.txt (line 1)) (1.5.1)\n",
      "Requirement already satisfied: sklearn in /opt/app-root/lib/python3.8/site-packages (from -r requirements.txt (line 2)) (0.0)\n",
      "Requirement already satisfied: joblib in /opt/app-root/lib/python3.8/site-packages (from -r requirements.txt (line 3)) (1.2.0)\n",
      "Requirement already satisfied: numpy>=1.20.3 in /opt/app-root/lib/python3.8/site-packages (from pandas->-r requirements.txt (line 1)) (1.23.4)\n",
      "Requirement already satisfied: python-dateutil>=2.8.1 in /opt/app-root/lib/python3.8/site-packages (from pandas->-r requirements.txt (line 1)) (2.8.2)\n",
      "Requirement already satisfied: pytz>=2020.1 in /opt/app-root/lib/python3.8/site-packages (from pandas->-r requirements.txt (line 1)) (2021.3)\n",
      "Requirement already satisfied: scikit-learn in /opt/app-root/lib/python3.8/site-packages (from sklearn->-r requirements.txt (line 2)) (1.1.3)\n",
      "Requirement already satisfied: six>=1.5 in /opt/app-root/lib/python3.8/site-packages (from python-dateutil>=2.8.1->pandas->-r requirements.txt (line 1)) (1.16.0)\n",
      "Requirement already satisfied: threadpoolctl>=2.0.0 in /opt/app-root/lib/python3.8/site-packages (from scikit-learn->sklearn->-r requirements.txt (line 2)) (3.1.0)\n",
      "Requirement already satisfied: scipy>=1.3.2 in /opt/app-root/lib/python3.8/site-packages (from scikit-learn->sklearn->-r requirements.txt (line 2)) (1.9.3)\n",
      "           acc_x     acc_y     acc_z     speed    gyro_x    gyro_y    gyro_z  \\\n",
      "0       0.365116  0.167893  9.793961  0.009128 -0.133896 -0.018883  0.138092   \n",
      "1       0.392649  0.176273  9.771216  0.009128 -0.027084 -0.003624  0.000763   \n",
      "2       0.409408  0.181062  9.732909  0.009128  0.125504 -0.186729 -0.090790   \n",
      "3       0.371101  0.164302  9.749668  0.009128 -0.088120 -0.034142  0.046539   \n",
      "4       0.390255  0.159514  9.869378  0.009128 -0.179672  0.118446 -0.182343   \n",
      "...          ...       ...       ...       ...       ...       ...       ...   \n",
      "144031 -0.527921 -0.322918  9.583271  0.005715 -0.332260 -0.095177 -0.060272   \n",
      "144032 -0.663194 -0.575506  9.433633  0.005715 -0.240707 -0.308800 -0.182343   \n",
      "144033 -0.375890 -0.245106  9.957964  0.005715  0.064468 -0.156212  0.000763   \n",
      "144034 -0.385466 -0.091877  9.840648  0.005715 -0.423813  0.820351 -0.243378   \n",
      "144035 -0.575805 -0.502483  9.457575  0.005715 -0.500107  0.057411 -0.060272   \n",
      "\n",
      "        road_condition  \n",
      "0                    2  \n",
      "1                    2  \n",
      "2                    2  \n",
      "3                    2  \n",
      "4                    2  \n",
      "...                ...  \n",
      "144031               2  \n",
      "144032               2  \n",
      "144033               2  \n",
      "144034               2  \n",
      "144035               2  \n",
      "\n",
      "[144036 rows x 8 columns]\n"
     ]
    }
   ],
   "source": [
    "!pip install -r requirements.txt\n",
    "import joblib\n",
    "import pandas as pd\n",
    "\n",
    "df = pd.read_csv('road_roughness_data.csv')\n",
    "print(df)"
   ]
  },
  {
   "cell_type": "code",
   "execution_count": 32,
   "id": "f08b42a9-f248-4ff8-ae84-b8062ac6ab53",
   "metadata": {},
   "outputs": [
    {
     "data": {
      "text/html": [
       "<div>\n",
       "<style scoped>\n",
       "    .dataframe tbody tr th:only-of-type {\n",
       "        vertical-align: middle;\n",
       "    }\n",
       "\n",
       "    .dataframe tbody tr th {\n",
       "        vertical-align: top;\n",
       "    }\n",
       "\n",
       "    .dataframe thead th {\n",
       "        text-align: right;\n",
       "    }\n",
       "</style>\n",
       "<table border=\"1\" class=\"dataframe\">\n",
       "  <thead>\n",
       "    <tr style=\"text-align: right;\">\n",
       "      <th></th>\n",
       "      <th>acc_x</th>\n",
       "      <th>acc_y</th>\n",
       "      <th>acc_z</th>\n",
       "      <th>speed</th>\n",
       "      <th>gyro_x</th>\n",
       "      <th>gyro_y</th>\n",
       "      <th>gyro_z</th>\n",
       "    </tr>\n",
       "  </thead>\n",
       "  <tbody>\n",
       "    <tr>\n",
       "      <th>0</th>\n",
       "      <td>0.365116</td>\n",
       "      <td>0.167893</td>\n",
       "      <td>9.793961</td>\n",
       "      <td>0.009128</td>\n",
       "      <td>-0.133896</td>\n",
       "      <td>-0.018883</td>\n",
       "      <td>0.138092</td>\n",
       "    </tr>\n",
       "    <tr>\n",
       "      <th>1</th>\n",
       "      <td>0.392649</td>\n",
       "      <td>0.176273</td>\n",
       "      <td>9.771216</td>\n",
       "      <td>0.009128</td>\n",
       "      <td>-0.027084</td>\n",
       "      <td>-0.003624</td>\n",
       "      <td>0.000763</td>\n",
       "    </tr>\n",
       "    <tr>\n",
       "      <th>2</th>\n",
       "      <td>0.409408</td>\n",
       "      <td>0.181062</td>\n",
       "      <td>9.732909</td>\n",
       "      <td>0.009128</td>\n",
       "      <td>0.125504</td>\n",
       "      <td>-0.186729</td>\n",
       "      <td>-0.090790</td>\n",
       "    </tr>\n",
       "    <tr>\n",
       "      <th>3</th>\n",
       "      <td>0.371101</td>\n",
       "      <td>0.164302</td>\n",
       "      <td>9.749668</td>\n",
       "      <td>0.009128</td>\n",
       "      <td>-0.088120</td>\n",
       "      <td>-0.034142</td>\n",
       "      <td>0.046539</td>\n",
       "    </tr>\n",
       "    <tr>\n",
       "      <th>4</th>\n",
       "      <td>0.390255</td>\n",
       "      <td>0.159514</td>\n",
       "      <td>9.869378</td>\n",
       "      <td>0.009128</td>\n",
       "      <td>-0.179672</td>\n",
       "      <td>0.118446</td>\n",
       "      <td>-0.182343</td>\n",
       "    </tr>\n",
       "    <tr>\n",
       "      <th>...</th>\n",
       "      <td>...</td>\n",
       "      <td>...</td>\n",
       "      <td>...</td>\n",
       "      <td>...</td>\n",
       "      <td>...</td>\n",
       "      <td>...</td>\n",
       "      <td>...</td>\n",
       "    </tr>\n",
       "    <tr>\n",
       "      <th>144031</th>\n",
       "      <td>-0.527921</td>\n",
       "      <td>-0.322918</td>\n",
       "      <td>9.583271</td>\n",
       "      <td>0.005715</td>\n",
       "      <td>-0.332260</td>\n",
       "      <td>-0.095177</td>\n",
       "      <td>-0.060272</td>\n",
       "    </tr>\n",
       "    <tr>\n",
       "      <th>144032</th>\n",
       "      <td>-0.663194</td>\n",
       "      <td>-0.575506</td>\n",
       "      <td>9.433633</td>\n",
       "      <td>0.005715</td>\n",
       "      <td>-0.240707</td>\n",
       "      <td>-0.308800</td>\n",
       "      <td>-0.182343</td>\n",
       "    </tr>\n",
       "    <tr>\n",
       "      <th>144033</th>\n",
       "      <td>-0.375890</td>\n",
       "      <td>-0.245106</td>\n",
       "      <td>9.957964</td>\n",
       "      <td>0.005715</td>\n",
       "      <td>0.064468</td>\n",
       "      <td>-0.156212</td>\n",
       "      <td>0.000763</td>\n",
       "    </tr>\n",
       "    <tr>\n",
       "      <th>144034</th>\n",
       "      <td>-0.385466</td>\n",
       "      <td>-0.091877</td>\n",
       "      <td>9.840648</td>\n",
       "      <td>0.005715</td>\n",
       "      <td>-0.423813</td>\n",
       "      <td>0.820351</td>\n",
       "      <td>-0.243378</td>\n",
       "    </tr>\n",
       "    <tr>\n",
       "      <th>144035</th>\n",
       "      <td>-0.575805</td>\n",
       "      <td>-0.502483</td>\n",
       "      <td>9.457575</td>\n",
       "      <td>0.005715</td>\n",
       "      <td>-0.500107</td>\n",
       "      <td>0.057411</td>\n",
       "      <td>-0.060272</td>\n",
       "    </tr>\n",
       "  </tbody>\n",
       "</table>\n",
       "<p>144036 rows × 7 columns</p>\n",
       "</div>"
      ],
      "text/plain": [
       "           acc_x     acc_y     acc_z     speed    gyro_x    gyro_y    gyro_z\n",
       "0       0.365116  0.167893  9.793961  0.009128 -0.133896 -0.018883  0.138092\n",
       "1       0.392649  0.176273  9.771216  0.009128 -0.027084 -0.003624  0.000763\n",
       "2       0.409408  0.181062  9.732909  0.009128  0.125504 -0.186729 -0.090790\n",
       "3       0.371101  0.164302  9.749668  0.009128 -0.088120 -0.034142  0.046539\n",
       "4       0.390255  0.159514  9.869378  0.009128 -0.179672  0.118446 -0.182343\n",
       "...          ...       ...       ...       ...       ...       ...       ...\n",
       "144031 -0.527921 -0.322918  9.583271  0.005715 -0.332260 -0.095177 -0.060272\n",
       "144032 -0.663194 -0.575506  9.433633  0.005715 -0.240707 -0.308800 -0.182343\n",
       "144033 -0.375890 -0.245106  9.957964  0.005715  0.064468 -0.156212  0.000763\n",
       "144034 -0.385466 -0.091877  9.840648  0.005715 -0.423813  0.820351 -0.243378\n",
       "144035 -0.575805 -0.502483  9.457575  0.005715 -0.500107  0.057411 -0.060272\n",
       "\n",
       "[144036 rows x 7 columns]"
      ]
     },
     "execution_count": 32,
     "metadata": {},
     "output_type": "execute_result"
    }
   ],
   "source": [
    "df.iloc[:,:-1]"
   ]
  },
  {
   "cell_type": "code",
   "execution_count": 33,
   "id": "4fd3e459-0d02-482e-870a-b67f34429930",
   "metadata": {},
   "outputs": [
    {
     "data": {
      "text/html": [
       "<div>\n",
       "<style scoped>\n",
       "    .dataframe tbody tr th:only-of-type {\n",
       "        vertical-align: middle;\n",
       "    }\n",
       "\n",
       "    .dataframe tbody tr th {\n",
       "        vertical-align: top;\n",
       "    }\n",
       "\n",
       "    .dataframe thead th {\n",
       "        text-align: right;\n",
       "    }\n",
       "</style>\n",
       "<table border=\"1\" class=\"dataframe\">\n",
       "  <thead>\n",
       "    <tr style=\"text-align: right;\">\n",
       "      <th></th>\n",
       "      <th>road_condition</th>\n",
       "    </tr>\n",
       "  </thead>\n",
       "  <tbody>\n",
       "    <tr>\n",
       "      <th>0</th>\n",
       "      <td>2</td>\n",
       "    </tr>\n",
       "    <tr>\n",
       "      <th>1</th>\n",
       "      <td>2</td>\n",
       "    </tr>\n",
       "    <tr>\n",
       "      <th>2</th>\n",
       "      <td>2</td>\n",
       "    </tr>\n",
       "    <tr>\n",
       "      <th>3</th>\n",
       "      <td>2</td>\n",
       "    </tr>\n",
       "    <tr>\n",
       "      <th>4</th>\n",
       "      <td>2</td>\n",
       "    </tr>\n",
       "    <tr>\n",
       "      <th>...</th>\n",
       "      <td>...</td>\n",
       "    </tr>\n",
       "    <tr>\n",
       "      <th>144031</th>\n",
       "      <td>2</td>\n",
       "    </tr>\n",
       "    <tr>\n",
       "      <th>144032</th>\n",
       "      <td>2</td>\n",
       "    </tr>\n",
       "    <tr>\n",
       "      <th>144033</th>\n",
       "      <td>2</td>\n",
       "    </tr>\n",
       "    <tr>\n",
       "      <th>144034</th>\n",
       "      <td>2</td>\n",
       "    </tr>\n",
       "    <tr>\n",
       "      <th>144035</th>\n",
       "      <td>2</td>\n",
       "    </tr>\n",
       "  </tbody>\n",
       "</table>\n",
       "<p>144036 rows × 1 columns</p>\n",
       "</div>"
      ],
      "text/plain": [
       "        road_condition\n",
       "0                    2\n",
       "1                    2\n",
       "2                    2\n",
       "3                    2\n",
       "4                    2\n",
       "...                ...\n",
       "144031               2\n",
       "144032               2\n",
       "144033               2\n",
       "144034               2\n",
       "144035               2\n",
       "\n",
       "[144036 rows x 1 columns]"
      ]
     },
     "execution_count": 33,
     "metadata": {},
     "output_type": "execute_result"
    }
   ],
   "source": [
    "df.iloc[:,-1:]"
   ]
  },
  {
   "cell_type": "code",
   "execution_count": 54,
   "id": "332eb344-465a-4d6b-a464-d5c24a70132e",
   "metadata": {},
   "outputs": [],
   "source": [
    "\n",
    "# Import train_test_split function\n",
    "from sklearn.model_selection import train_test_split\n",
    "\n",
    "X = df.iloc[:,:-1]\n",
    "#y = df.iloc[:,-1:]\n",
    "y= df['road_condition']\n",
    "\n",
    "# Split dataset into training set and test set\n",
    "X_train, X_test, y_train, y_test = train_test_split(X, y, test_size=0.80) # 70% training and 30% test"
   ]
  },
  {
   "cell_type": "code",
   "execution_count": 55,
   "id": "ac7e480c-ecc5-4fb0-908f-8ef26bb91f5e",
   "metadata": {},
   "outputs": [
    {
     "data": {
      "text/html": [
       "<style>#sk-container-id-4 {color: black;background-color: white;}#sk-container-id-4 pre{padding: 0;}#sk-container-id-4 div.sk-toggleable {background-color: white;}#sk-container-id-4 label.sk-toggleable__label {cursor: pointer;display: block;width: 100%;margin-bottom: 0;padding: 0.3em;box-sizing: border-box;text-align: center;}#sk-container-id-4 label.sk-toggleable__label-arrow:before {content: \"▸\";float: left;margin-right: 0.25em;color: #696969;}#sk-container-id-4 label.sk-toggleable__label-arrow:hover:before {color: black;}#sk-container-id-4 div.sk-estimator:hover label.sk-toggleable__label-arrow:before {color: black;}#sk-container-id-4 div.sk-toggleable__content {max-height: 0;max-width: 0;overflow: hidden;text-align: left;background-color: #f0f8ff;}#sk-container-id-4 div.sk-toggleable__content pre {margin: 0.2em;color: black;border-radius: 0.25em;background-color: #f0f8ff;}#sk-container-id-4 input.sk-toggleable__control:checked~div.sk-toggleable__content {max-height: 200px;max-width: 100%;overflow: auto;}#sk-container-id-4 input.sk-toggleable__control:checked~label.sk-toggleable__label-arrow:before {content: \"▾\";}#sk-container-id-4 div.sk-estimator input.sk-toggleable__control:checked~label.sk-toggleable__label {background-color: #d4ebff;}#sk-container-id-4 div.sk-label input.sk-toggleable__control:checked~label.sk-toggleable__label {background-color: #d4ebff;}#sk-container-id-4 input.sk-hidden--visually {border: 0;clip: rect(1px 1px 1px 1px);clip: rect(1px, 1px, 1px, 1px);height: 1px;margin: -1px;overflow: hidden;padding: 0;position: absolute;width: 1px;}#sk-container-id-4 div.sk-estimator {font-family: monospace;background-color: #f0f8ff;border: 1px dotted black;border-radius: 0.25em;box-sizing: border-box;margin-bottom: 0.5em;}#sk-container-id-4 div.sk-estimator:hover {background-color: #d4ebff;}#sk-container-id-4 div.sk-parallel-item::after {content: \"\";width: 100%;border-bottom: 1px solid gray;flex-grow: 1;}#sk-container-id-4 div.sk-label:hover label.sk-toggleable__label {background-color: #d4ebff;}#sk-container-id-4 div.sk-serial::before {content: \"\";position: absolute;border-left: 1px solid gray;box-sizing: border-box;top: 0;bottom: 0;left: 50%;z-index: 0;}#sk-container-id-4 div.sk-serial {display: flex;flex-direction: column;align-items: center;background-color: white;padding-right: 0.2em;padding-left: 0.2em;position: relative;}#sk-container-id-4 div.sk-item {position: relative;z-index: 1;}#sk-container-id-4 div.sk-parallel {display: flex;align-items: stretch;justify-content: center;background-color: white;position: relative;}#sk-container-id-4 div.sk-item::before, #sk-container-id-4 div.sk-parallel-item::before {content: \"\";position: absolute;border-left: 1px solid gray;box-sizing: border-box;top: 0;bottom: 0;left: 50%;z-index: -1;}#sk-container-id-4 div.sk-parallel-item {display: flex;flex-direction: column;z-index: 1;position: relative;background-color: white;}#sk-container-id-4 div.sk-parallel-item:first-child::after {align-self: flex-end;width: 50%;}#sk-container-id-4 div.sk-parallel-item:last-child::after {align-self: flex-start;width: 50%;}#sk-container-id-4 div.sk-parallel-item:only-child::after {width: 0;}#sk-container-id-4 div.sk-dashed-wrapped {border: 1px dashed gray;margin: 0 0.4em 0.5em 0.4em;box-sizing: border-box;padding-bottom: 0.4em;background-color: white;}#sk-container-id-4 div.sk-label label {font-family: monospace;font-weight: bold;display: inline-block;line-height: 1.2em;}#sk-container-id-4 div.sk-label-container {text-align: center;}#sk-container-id-4 div.sk-container {/* jupyter's `normalize.less` sets `[hidden] { display: none; }` but bootstrap.min.css set `[hidden] { display: none !important; }` so we also need the `!important` here to be able to override the default hidden behavior on the sphinx rendered scikit-learn.org. See: https://github.com/scikit-learn/scikit-learn/issues/21755 */display: inline-block !important;position: relative;}#sk-container-id-4 div.sk-text-repr-fallback {display: none;}</style><div id=\"sk-container-id-4\" class=\"sk-top-container\"><div class=\"sk-text-repr-fallback\"><pre>RandomForestClassifier()</pre><b>In a Jupyter environment, please rerun this cell to show the HTML representation or trust the notebook. <br />On GitHub, the HTML representation is unable to render, please try loading this page with nbviewer.org.</b></div><div class=\"sk-container\" hidden><div class=\"sk-item\"><div class=\"sk-estimator sk-toggleable\"><input class=\"sk-toggleable__control sk-hidden--visually\" id=\"sk-estimator-id-4\" type=\"checkbox\" checked><label for=\"sk-estimator-id-4\" class=\"sk-toggleable__label sk-toggleable__label-arrow\">RandomForestClassifier</label><div class=\"sk-toggleable__content\"><pre>RandomForestClassifier()</pre></div></div></div></div></div>"
      ],
      "text/plain": [
       "RandomForestClassifier()"
      ]
     },
     "execution_count": 55,
     "metadata": {},
     "output_type": "execute_result"
    }
   ],
   "source": [
    "#Import Random Forest Model\n",
    "from sklearn.ensemble import RandomForestClassifier\n",
    "\n",
    "#Create a Gaussian Classifier\n",
    "clf=RandomForestClassifier(n_estimators=100)\n",
    "\n",
    "#Train the model using the training sets y_pred=clf.predict(X_test)\n",
    "clf.fit(X_train,y_train)"
   ]
  },
  {
   "cell_type": "code",
   "execution_count": 56,
   "id": "c3d40d59-7a94-47cf-bddb-2e369213bddc",
   "metadata": {},
   "outputs": [],
   "source": [
    "y_pred=clf.predict(X_test)"
   ]
  },
  {
   "cell_type": "code",
   "execution_count": 57,
   "id": "cdde1728-8397-4251-82b5-015a9951b87c",
   "metadata": {},
   "outputs": [
    {
     "name": "stdout",
     "output_type": "stream",
     "text": [
      "[0]\n"
     ]
    },
    {
     "name": "stderr",
     "output_type": "stream",
     "text": [
      "/opt/app-root/lib64/python3.8/site-packages/sklearn/base.py:450: UserWarning: X does not have valid feature names, but RandomForestClassifier was fitted with feature names\n",
      "  warnings.warn(\n"
     ]
    }
   ],
   "source": [
    "print(clf.predict([[1,2,3,4,5,6,8]]))"
   ]
  },
  {
   "cell_type": "code",
   "execution_count": 58,
   "id": "40271515-aed5-415f-90c9-a694e94fbff6",
   "metadata": {},
   "outputs": [
    {
     "name": "stdout",
     "output_type": "stream",
     "text": [
      "Accuracy: 0.9002055041795107\n"
     ]
    }
   ],
   "source": [
    "#Import scikit-learn metrics module for accuracy calculation\n",
    "from sklearn import metrics\n",
    "# Model Accuracy, how often is the classifier correct?\n",
    "print(\"Accuracy:\",metrics.accuracy_score(y_test, y_pred))"
   ]
  },
  {
   "cell_type": "code",
   "execution_count": 59,
   "id": "db45e52d-d33a-42c0-8f21-5fab895eb385",
   "metadata": {},
   "outputs": [
    {
     "data": {
      "text/plain": [
       "['road-model.joblib']"
      ]
     },
     "execution_count": 59,
     "metadata": {},
     "output_type": "execute_result"
    }
   ],
   "source": [
    "# save the model to disk\n",
    "filename = 'road-model.joblib'\n",
    "joblib.dump(clf, filename)"
   ]
  },
  {
   "cell_type": "code",
   "execution_count": 60,
   "id": "e2faff8b-f96f-44c3-9981-2ae349c39a21",
   "metadata": {},
   "outputs": [
    {
     "name": "stdout",
     "output_type": "stream",
     "text": [
      "0.9002055041795107\n"
     ]
    }
   ],
   "source": [
    "# load the model from disk\n",
    "loaded_model = joblib.load(filename)\n",
    "result = loaded_model.score(X_test, y_test)\n",
    "print(result)"
   ]
  },
  {
   "cell_type": "code",
   "execution_count": null,
   "id": "8771a206-46a9-4e48-85d0-7304ea6e2058",
   "metadata": {},
   "outputs": [],
   "source": []
  }
 ],
 "metadata": {
  "kernelspec": {
   "display_name": "Python 3 (ipykernel)",
   "language": "python",
   "name": "python3"
  },
  "language_info": {
   "codemirror_mode": {
    "name": "ipython",
    "version": 3
   },
   "file_extension": ".py",
   "mimetype": "text/x-python",
   "name": "python",
   "nbconvert_exporter": "python",
   "pygments_lexer": "ipython3",
   "version": "3.8.12"
  }
 },
 "nbformat": 4,
 "nbformat_minor": 5
}
